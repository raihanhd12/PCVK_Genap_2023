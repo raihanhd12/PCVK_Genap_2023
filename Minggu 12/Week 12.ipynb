{
  "nbformat": 4,
  "nbformat_minor": 0,
  "metadata": {
    "colab": {
      "provenance": [],
      "authorship_tag": "ABX9TyNzPMu2ZheqkemzZxrxVSwZ",
      "include_colab_link": true
    },
    "kernelspec": {
      "name": "python3",
      "display_name": "Python 3"
    },
    "language_info": {
      "name": "python"
    }
  },
  "cells": [
    {
      "cell_type": "markdown",
      "metadata": {
        "id": "view-in-github",
        "colab_type": "text"
      },
      "source": [
        "<a href=\"https://colab.research.google.com/github/raihanhd12/PCVK_Genap_2023/blob/main/Minggu%2012/Week%2012.ipynb\" target=\"_parent\"><img src=\"https://colab.research.google.com/assets/colab-badge.svg\" alt=\"Open In Colab\"/></a>"
      ]
    },
    {
      "cell_type": "code",
      "execution_count": null,
      "metadata": {
        "id": "g9up9bdpTJUc"
      },
      "outputs": [],
      "source": [
        "from google.colab import drive\n",
        "drive.mount('/content/drive/')"
      ]
    },
    {
      "cell_type": "code",
      "source": [
        "import numpy as np\n",
        "import cv2 as cv\n",
        "import matplotlib.pyplot as plt\n",
        "import numpy as np\n",
        "import PIL"
      ],
      "metadata": {
        "id": "KG6uRFeESQ6r"
      },
      "execution_count": null,
      "outputs": []
    },
    {
      "cell_type": "markdown",
      "source": [
        "# Teori"
      ],
      "metadata": {
        "id": "JTCwA-T3ThD3"
      }
    },
    {
      "cell_type": "markdown",
      "source": [
        "## Konsep FeatureMatching"
      ],
      "metadata": {
        "id": "yatkpdaLV4xU"
      }
    },
    {
      "cell_type": "code",
      "source": [
        "def display(img, cmap='gray'):\n",
        "  fig = plt.figure(figsize=(12,10))\n",
        "  ax = fig.add_subplot(111)\n",
        "  ax.imshow(img, cmap='gray')\n",
        "\n",
        "reeses = cv.imread('/content/drive/MyDrive/Kuliah/Semester 6/PCVK/Images/facedet/reeses_puffs.png', 0)\n",
        "display(reeses)"
      ],
      "metadata": {
        "id": "9aIRhMlvTkVA"
      },
      "execution_count": null,
      "outputs": []
    },
    {
      "cell_type": "code",
      "source": [
        "cereals = cv.imread('/content/drive/MyDrive/Kuliah/Semester 6/PCVK/Images/facedet/many_cereals.jpg', 0)\n",
        "display(cereals)"
      ],
      "metadata": {
        "id": "9eEGCLSfTkOJ"
      },
      "execution_count": null,
      "outputs": []
    },
    {
      "cell_type": "code",
      "source": [
        "orb = cv.ORB_create()\n",
        "kp1,des1 = orb.detectAndCompute(reeses, None)\n",
        "kp2,des2 = orb.detectAndCompute(cereals, None)\n",
        "bf = cv.BFMatcher(cv.NORM_HAMMING, crossCheck = True)\n",
        "matches = bf.match(des1, des2)\n",
        "single_match = matches[0]\n",
        "single_match.distance"
      ],
      "metadata": {
        "id": "KabTFxSMUMkW"
      },
      "execution_count": null,
      "outputs": []
    },
    {
      "cell_type": "code",
      "source": [
        "len(matches)"
      ],
      "metadata": {
        "id": "MDqGecqYTNsO"
      },
      "execution_count": null,
      "outputs": []
    },
    {
      "cell_type": "code",
      "source": [
        "matches = sorted(matches, key=lambda x:x.distance)\n",
        "reeses_match = cv.drawMatches(reeses, kp1, cereals, kp2, matches[:25], None, flags=2)\n",
        "display(reeses_match)"
      ],
      "metadata": {
        "id": "lqcEtNpOSu7I"
      },
      "execution_count": null,
      "outputs": []
    },
    {
      "cell_type": "code",
      "source": [
        "# !pip install opencv-contrib-python==4.4.0.46"
      ],
      "metadata": {
        "id": "8L3LRkQfVsyA"
      },
      "execution_count": null,
      "outputs": []
    },
    {
      "cell_type": "code",
      "source": [
        "sift = cv.xfeatures2d.SIFT_create()\n",
        "kp1,des1 = sift.detectAndCompute(reeses, None)\n",
        "kp2,des2 = sift.detectAndCompute(cereals, None)\n",
        "bf = cv.BFMatcher()\n",
        "matches = bf.knnMatch(des1,des2,k=2)\n",
        "\n",
        "good=[]\n",
        "\n",
        "for match1, match2 in matches:\n",
        "  if match1.distance < 0.75*match2.distance:\n",
        "    good.append([match1])\n",
        "\n",
        "len(good)"
      ],
      "metadata": {
        "id": "MW7RBvb4WIAz"
      },
      "execution_count": null,
      "outputs": []
    },
    {
      "cell_type": "code",
      "source": [
        "len(matches)"
      ],
      "metadata": {
        "id": "n39lifykXBB4"
      },
      "execution_count": null,
      "outputs": []
    },
    {
      "cell_type": "code",
      "source": [
        "sift_matches= cv.drawMatchesKnn(reeses,kp1,cereals,kp2,good,None,flags=2)\n",
        "display(sift_matches)"
      ],
      "metadata": {
        "id": "dXj99oZMXLyC"
      },
      "execution_count": null,
      "outputs": []
    },
    {
      "cell_type": "markdown",
      "source": [
        "## Konsep FaceDetection"
      ],
      "metadata": {
        "id": "Zw8yI1vTYhZn"
      }
    },
    {
      "cell_type": "code",
      "source": [
        "cascade_wajah = cv.CascadeClassifier('/content/drive/MyDrive/Kuliah/Semester 6/PCVK/Images/haarcascades/haarcascade_frontalface_alt.xml')\n",
        "jokowi = cv.imread('/content/drive/MyDrive/Kuliah/Semester 6/PCVK/Images/facedet/jokowi.jpg',0)\n",
        "roi_wajah = cascade_wajah.detectMultiScale(jokowi)\n",
        "for(x,y,w,h) in roi_wajah:\n",
        "  cv.rectangle(jokowi,(x,y),(x+w,y+h),(255,255,255),3)\n",
        "plt.figure(figsize = (10,10))\n",
        "plt.imshow(jokowi, cmap='gray')"
      ],
      "metadata": {
        "id": "ZiWoqKy2YPuD"
      },
      "execution_count": null,
      "outputs": []
    },
    {
      "cell_type": "markdown",
      "source": [
        "# Tugas Praktikum"
      ],
      "metadata": {
        "id": "BFEezN1oZMO9"
      }
    },
    {
      "cell_type": "code",
      "source": [
        "jokowi_original = cv.imread('/content/drive/MyDrive/Kuliah/Semester 6/PCVK/Images/facedet/jokowi.jpg') \n",
        "jokowi = cv.imread('/content/drive/MyDrive/Kuliah/Semester 6/PCVK/Images/facedet/jokowi.jpg') \n",
        "\n",
        "kartini_original = cv.imread('/content/drive/MyDrive/Kuliah/Semester 6/PCVK/Images/facedet/kartini.jpg')\n",
        "kartini = cv.imread('/content/drive/MyDrive/Kuliah/Semester 6/PCVK/Images/facedet/kartini.jpg')\n",
        "\n",
        "kucing_original = cv.imread('/content/drive/MyDrive/Kuliah/Semester 6/PCVK/Images/facedet/mycat.jpg')\n",
        "kucing = cv.imread('/content/drive/MyDrive/Kuliah/Semester 6/PCVK/Images/facedet/mycat.jpg')\n",
        "\n",
        "mask_original = cv.imread('/content/drive/MyDrive/Kuliah/Semester 6/PCVK/Images/facedet/mask.png')\n",
        "mask = cv.imread('/content/drive/MyDrive/Kuliah/Semester 6/PCVK/Images/facedet/mask.png')\n",
        "\n",
        "mjordan_original = cv.imread('/content/drive/MyDrive/Kuliah/Semester 6/PCVK/Images/facedet/mjordan.jpg')\n",
        "mjordan = cv.imread('/content/drive/MyDrive/Kuliah/Semester 6/PCVK/Images/facedet/mjordan.jpg')\n",
        "\n",
        "solvayconf_original = cv.imread('/content/drive/MyDrive/Kuliah/Semester 6/PCVK/Images/facedet/solvayconf.jpg')\n",
        "solvayconf = cv.imread('/content/drive/MyDrive/Kuliah/Semester 6/PCVK/Images/facedet/solvayconf.jpg')"
      ],
      "metadata": {
        "id": "eg0ZY6atZTb9"
      },
      "execution_count": null,
      "outputs": []
    },
    {
      "cell_type": "code",
      "source": [
        "def plot_face_detection(image, image_original):\n",
        "    cascade_wajah = cv.CascadeClassifier('/content/drive/MyDrive/Kuliah/Semester 6/PCVK/Images/haarcascades/haarcascade_frontalface_alt.xml')\n",
        "    roi_wajah = cascade_wajah.detectMultiScale(image) \n",
        "\n",
        "    for (x, y, w, h) in roi_wajah: \n",
        "        cv.rectangle(image, (x, y), (x + w, y + h), (0, 255, 0), 3) \n",
        "\n",
        "    f, ax = plt.subplots(1, 2, figsize=(14, 5))\n",
        "    plt.subplot(1, 2, 1)\n",
        "    plt.imshow(cv.cvtColor(image_original, cv.COLOR_BGR2RGB))\n",
        "    plt.gca().add_patch(plt.Rectangle((0, 0), image_original.shape[1], image_original.shape[0], fill=False, edgecolor='black', linewidth=2))\n",
        "    plt.axis('off')\n",
        "    ax[0].imshow(cv.cvtColor(image_original, cv.COLOR_BGR2RGB))\n",
        "    plt.gca().add_patch(plt.Rectangle((0, 0), image_original.shape[1], image_original.shape[0], fill=False, edgecolor='black', linewidth=2))\n",
        "    plt.axis('off')\n",
        "    plt.subplot(1, 2, 2)\n",
        "    plt.imshow(cv.cvtColor(image, cv.COLOR_BGR2RGB))\n",
        "    plt.gca().add_patch(plt.Rectangle((0, 0), image.shape[1], image.shape[0], fill=False, edgecolor='black', linewidth=2))\n",
        "    ax[1].imshow(cv.cvtColor(image, cv.COLOR_BGR2RGB))\n",
        "    plt.gca().add_patch(plt.Rectangle((0, 0), image.shape[1], image.shape[0], fill=False, edgecolor='black', linewidth=2))\n",
        "    plt.axis('off')\n",
        "    plt.show()"
      ],
      "metadata": {
        "id": "Coatxwnkcw0Q"
      },
      "execution_count": null,
      "outputs": []
    },
    {
      "cell_type": "code",
      "source": [
        "plot_face_detection(jokowi, jokowi_original)\n",
        "print(\"\\n\")\n",
        "plot_face_detection(kartini, kartini_original)\n",
        "print(\"\\n\")\n",
        "plot_face_detection(kucing, kucing_original)\n",
        "print(\"\\n\")\n",
        "plot_face_detection(mask, mask_original)\n",
        "print(\"\\n\")\n",
        "plot_face_detection(mjordan, mjordan_original)\n",
        "print(\"\\n\")\n",
        "plot_face_detection(solvayconf, solvayconf_original)"
      ],
      "metadata": {
        "id": "Qm62Q2hzY4MO"
      },
      "execution_count": null,
      "outputs": []
    },
    {
      "cell_type": "code",
      "source": [],
      "metadata": {
        "id": "VhhsN09-fdzO"
      },
      "execution_count": null,
      "outputs": []
    }
  ]
}